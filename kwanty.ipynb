{
 "cells": [
  {
   "cell_type": "code",
   "execution_count": 12,
   "metadata": {
    "collapsed": true,
    "pycharm": {
     "name": "#%%\n"
    }
   },
   "outputs": [],
   "source": [
    "import sympy as sp\n",
    "sp.init_printing()"
   ]
  },
  {
   "cell_type": "code",
   "execution_count": 13,
   "outputs": [
    {
     "data": {
      "text/plain": "(x, k, a, \\psi(x), n, h̅, p)",
      "image/png": "[encoded data removed]",
      "text/latex": "$\\displaystyle \\left( x, \\  k, \\  a, \\  \\psi{\\left(x \\right)}, \\  n, \\  \\hbar, \\  p\\right)$"
     },
     "execution_count": 2,
     "metadata": {},
     "output_type": "execute_result"
    },
    {
     "data": {
      "text/plain": "(x, k, a, \\psi(x), n, h̅, p)",
      "image/png": "[encoded data removed]",
      "text/latex": "$\\displaystyle \\left( x, \\  k, \\  a, \\  \\psi{\\left(x \\right)}, \\  n, \\  \\hbar, \\  p\\right)$"
     },
     "execution_count": 13,
     "metadata": {},
     "output_type": "execute_result"
    }
   ],
   "source": [
    "x = sp.Symbol('x', real = True)\n",
    "k = sp.Symbol('k', real = True, positive = True)\n",
    "a = sp.Symbol('a', real = True)\n",
    "n = sp.Symbol('n', integer = True, nonzero = True)\n",
    "h = sp.Symbol('hbar', real = True, positive = True)\n",
    "psi = sp.Function('\\psi')\n",
    "p = sp.Symbol('p')\n",
    "\n",
    "x, k, a, psi(x), n, h, p"
   ],
   "metadata": {
    "collapsed": false,
    "pycharm": {
     "name": "#%%\n"
    }
   }
  },
  {
   "cell_type": "code",
   "execution_count": 14,
   "outputs": [
    {
     "data": {
      "text/plain": "                 ___           \n                ╱ 1     ⎛π⋅n⋅x⎞\n\\psi(x) = √2⋅  ╱  ─ ⋅sin⎜─────⎟\n             ╲╱   a     ⎝  a  ⎠",
      "image/png": "[encoded data removed]",
      "text/latex": "$\\displaystyle \\psi{\\left(x \\right)} = \\sqrt{2} \\sqrt{\\frac{1}{a}} \\sin{\\left(\\frac{\\pi n x}{a} \\right)}$"
     },
     "execution_count": 3,
     "metadata": {},
     "output_type": "execute_result"
    },
    {
     "data": {
      "text/plain": "                 ___           \n                ╱ 1     ⎛π⋅n⋅x⎞\n\\psi(x) = √2⋅  ╱  ─ ⋅sin⎜─────⎟\n             ╲╱   a     ⎝  a  ⎠",
      "image/png": "[encoded data removed]",
      "text/latex": "$\\displaystyle \\psi{\\left(x \\right)} = \\sqrt{2} \\sqrt{\\frac{1}{a}} \\sin{\\left(\\frac{\\pi n x}{a} \\right)}$"
     },
     "execution_count": 14,
     "metadata": {},
     "output_type": "execute_result"
    }
   ],
   "source": [
    "eq = sp.Eq(psi(x).diff(x, x), -k**2 * psi(x))\n",
    "sol = sp.dsolve(eq, psi(x), ics = {psi(0): 0})\n",
    "sol = sol.subs(k, n * sp.pi / a)\n",
    "sp.Symbol('C1')\n",
    "sol = sol.subs(sp.Symbol('C1'), sp.sqrt(2 / a))\n",
    "sol"
   ],
   "metadata": {
    "collapsed": false,
    "pycharm": {
     "name": "#%%\n"
    }
   }
  },
  {
   "cell_type": "markdown",
   "source": [
    "$$<p>$$"
   ],
   "metadata": {
    "collapsed": false,
    "pycharm": {
     "name": "#%% md\n"
    }
   }
  },
  {
   "cell_type": "code",
   "execution_count": 15,
   "outputs": [
    {
     "data": {
      "text/plain": "             d          \n-ⅈ⋅h̅⋅\\psi(x)⋅──(\\psi(x))\n             dx         ",
      "image/png": "[encoded data removed]",
      "text/latex": "$\\displaystyle - i \\hbar \\psi{\\left(x \\right)} \\frac{d}{d x} \\psi{\\left(x \\right)}$"
     },
     "execution_count": 4,
     "metadata": {},
     "output_type": "execute_result"
    },
    {
     "data": {
      "text/plain": "             d          \n-ⅈ⋅h̅⋅\\psi(x)⋅──(\\psi(x))\n             dx         ",
      "image/png": "[encoded data removed]",
      "text/latex": "$\\displaystyle - i \\hbar \\psi{\\left(x \\right)} \\frac{d}{d x} \\psi{\\left(x \\right)}$"
     },
     "execution_count": 15,
     "metadata": {},
     "output_type": "execute_result"
    }
   ],
   "source": [
    "p=h * sp.I*-1\n",
    "C = psi(x)* p * psi(x).diff(x)\n",
    "C"
   ],
   "metadata": {
    "collapsed": false,
    "pycharm": {
     "name": "#%%\n"
    }
   }
  },
  {
   "cell_type": "code",
   "execution_count": 16,
   "outputs": [
    {
     "data": {
      "text/plain": "            ___              ⎛       ___           ⎞\n           ╱ 1     ⎛π⋅n⋅x⎞ ∂ ⎜      ╱ 1     ⎛π⋅n⋅x⎞⎟\n-√2⋅ⅈ⋅h̅⋅  ╱  ─ ⋅sin⎜─────⎟⋅──⎜√2⋅  ╱  ─ ⋅sin⎜─────⎟⎟\n        ╲╱   a     ⎝  a  ⎠ ∂x⎝   ╲╱   a     ⎝  a  ⎠⎠",
      "image/png": "[encoded data removed]",
      "text/latex": "$\\displaystyle - \\sqrt{2} i \\hbar \\sqrt{\\frac{1}{a}} \\sin{\\left(\\frac{\\pi n x}{a} \\right)} \\frac{\\partial}{\\partial x} \\sqrt{2} \\sqrt{\\frac{1}{a}} \\sin{\\left(\\frac{\\pi n x}{a} \\right)}$"
     },
     "execution_count": 5,
     "metadata": {},
     "output_type": "execute_result"
    },
    {
     "data": {
      "text/plain": "            ___              ⎛       ___           ⎞\n           ╱ 1     ⎛π⋅n⋅x⎞ ∂ ⎜      ╱ 1     ⎛π⋅n⋅x⎞⎟\n-√2⋅ⅈ⋅h̅⋅  ╱  ─ ⋅sin⎜─────⎟⋅──⎜√2⋅  ╱  ─ ⋅sin⎜─────⎟⎟\n        ╲╱   a     ⎝  a  ⎠ ∂x⎝   ╲╱   a     ⎝  a  ⎠⎠",
      "image/png": "[encoded data removed]",
      "text/latex": "$\\displaystyle - \\sqrt{2} i \\hbar \\sqrt{\\frac{1}{a}} \\sin{\\left(\\frac{\\pi n x}{a} \\right)} \\frac{\\partial}{\\partial x} \\sqrt{2} \\sqrt{\\frac{1}{a}} \\sin{\\left(\\frac{\\pi n x}{a} \\right)}$"
     },
     "execution_count": 16,
     "metadata": {},
     "output_type": "execute_result"
    }
   ],
   "source": [
    "C = C.subs(psi(x), sol.rhs)\n",
    "C"
   ],
   "metadata": {
    "collapsed": false,
    "pycharm": {
     "name": "#%%\n"
    }
   }
  },
  {
   "cell_type": "code",
   "execution_count": 17,
   "outputs": [
    {
     "data": {
      "text/plain": "0",
      "image/png": "[encoded data removed]",
      "text/latex": "$\\displaystyle 0$"
     },
     "execution_count": 6,
     "metadata": {},
     "output_type": "execute_result"
    },
    {
     "data": {
      "text/plain": "0",
      "image/png": "[encoded data removed]",
      "text/latex": "$\\displaystyle 0$"
     },
     "execution_count": 17,
     "metadata": {},
     "output_type": "execute_result"
    }
   ],
   "source": [
    "ep = sp.integrate(C,(x,0,a)).simplify()\n",
    "ep"
   ],
   "metadata": {
    "collapsed": false,
    "pycharm": {
     "name": "#%%\n"
    }
   }
  },
  {
   "cell_type": "markdown",
   "source": [
    "$$<p^2>$$"
   ],
   "metadata": {
    "collapsed": false,
    "pycharm": {
     "name": "#%% md\n"
    }
   }
  },
  {
   "cell_type": "code",
   "execution_count": 18,
   "outputs": [
    {
     "data": {
      "text/plain": "              2         \n  2          d          \n-h̅ ⋅\\psi(x)⋅───(\\psi(x))\n              2         \n            dx          ",
      "image/png": "[encoded data removed]",
      "text/latex": "$\\displaystyle - \\hbar^{2} \\psi{\\left(x \\right)} \\frac{d^{2}}{d x^{2}} \\psi{\\left(x \\right)}$"
     },
     "execution_count": 7,
     "metadata": {},
     "output_type": "execute_result"
    },
    {
     "data": {
      "text/plain": "              2         \n  2          d          \n-h̅ ⋅\\psi(x)⋅───(\\psi(x))\n              2         \n            dx          ",
      "image/png": "[encoded data removed]",
      "text/latex": "$\\displaystyle - \\hbar^{2} \\psi{\\left(x \\right)} \\frac{d^{2}}{d x^{2}} \\psi{\\left(x \\right)}$"
     },
     "execution_count": 18,
     "metadata": {},
     "output_type": "execute_result"
    }
   ],
   "source": [
    "C = psi(x) * p**2 * psi(x).diff(x,x)\n",
    "C"
   ],
   "metadata": {
    "collapsed": false,
    "pycharm": {
     "name": "#%%\n"
    }
   }
  },
  {
   "cell_type": "code",
   "execution_count": 19,
   "outputs": [
    {
     "data": {
      "text/plain": "           ___              2⎛       ___           ⎞\n     2    ╱ 1     ⎛π⋅n⋅x⎞  ∂ ⎜      ╱ 1     ⎛π⋅n⋅x⎞⎟\n-√2⋅h̅ ⋅  ╱  ─ ⋅sin⎜─────⎟⋅───⎜√2⋅  ╱  ─ ⋅sin⎜─────⎟⎟\n       ╲╱   a     ⎝  a  ⎠   2⎝   ╲╱   a     ⎝  a  ⎠⎠\n                          ∂x                        ",
      "image/png": "[encoded data removed]",
      "text/latex": "$\\displaystyle - \\sqrt{2} \\hbar^{2} \\sqrt{\\frac{1}{a}} \\sin{\\left(\\frac{\\pi n x}{a} \\right)} \\frac{\\partial^{2}}{\\partial x^{2}} \\sqrt{2} \\sqrt{\\frac{1}{a}} \\sin{\\left(\\frac{\\pi n x}{a} \\right)}$"
     },
     "execution_count": 8,
     "metadata": {},
     "output_type": "execute_result"
    },
    {
     "data": {
      "text/plain": "           ___              2⎛       ___           ⎞\n     2    ╱ 1     ⎛π⋅n⋅x⎞  ∂ ⎜      ╱ 1     ⎛π⋅n⋅x⎞⎟\n-√2⋅h̅ ⋅  ╱  ─ ⋅sin⎜─────⎟⋅───⎜√2⋅  ╱  ─ ⋅sin⎜─────⎟⎟\n       ╲╱   a     ⎝  a  ⎠   2⎝   ╲╱   a     ⎝  a  ⎠⎠\n                          ∂x                        ",
      "image/png": "[encoded data removed]",
      "text/latex": "$\\displaystyle - \\sqrt{2} \\hbar^{2} \\sqrt{\\frac{1}{a}} \\sin{\\left(\\frac{\\pi n x}{a} \\right)} \\frac{\\partial^{2}}{\\partial x^{2}} \\sqrt{2} \\sqrt{\\frac{1}{a}} \\sin{\\left(\\frac{\\pi n x}{a} \\right)}$"
     },
     "execution_count": 19,
     "metadata": {},
     "output_type": "execute_result"
    }
   ],
   "source": [
    "C = C.subs(psi(x), sol.rhs)\n",
    "C"
   ],
   "metadata": {
    "collapsed": false,
    "pycharm": {
     "name": "#%%\n"
    }
   }
  },
  {
   "cell_type": "code",
   "execution_count": 20,
   "outputs": [
    {
     "data": {
      "text/plain": " 2  2  2\nπ ⋅h̅ ⋅n \n────────\n    2   \n   a    ",
      "image/png": "[encoded data removed]",
      "text/latex": "$\\displaystyle \\frac{\\pi^{2} \\hbar^{2} n^{2}}{a^{2}}$"
     },
     "execution_count": 9,
     "metadata": {},
     "output_type": "execute_result"
    },
    {
     "data": {
      "text/plain": " 2  2  2\nπ ⋅h̅ ⋅n \n────────\n    2   \n   a    ",
      "image/png": "[encoded data removed]",
      "text/latex": "$\\displaystyle \\frac{\\pi^{2} \\hbar^{2} n^{2}}{a^{2}}$"
     },
     "execution_count": 20,
     "metadata": {},
     "output_type": "execute_result"
    }
   ],
   "source": [
    "ep2 = sp.integrate(C,(x,0,a)).simplify()\n",
    "ep2"
   ],
   "metadata": {
    "collapsed": false,
    "pycharm": {
     "name": "#%%\n"
    }
   }
  },
  {
   "cell_type": "markdown",
   "source": [
    "$$Nieoznaczoność$$"
   ],
   "metadata": {
    "collapsed": false,
    "pycharm": {
     "name": "#%% md\n"
    }
   }
  },
  {
   "cell_type": "code",
   "execution_count": 21,
   "outputs": [
    {
     "data": {
      "text/plain": "         ⎛ 2       2  ⎞\n 2  2  2 ⎜a       a   ⎟\nπ ⋅h̅ ⋅n ⋅⎜── - ───────⎟\n         ⎜12      2  2⎟\n         ⎝     2⋅π ⋅n ⎠\n───────────────────────\n            2          \n           a           ",
      "image/png": "[encoded data removed]",
      "text/latex": "$\\displaystyle \\frac{\\pi^{2} \\hbar^{2} n^{2} \\left(\\frac{a^{2}}{12} - \\frac{a^{2}}{2 \\pi^{2} n^{2}}\\right)}{a^{2}}$"
     },
     "execution_count": 10,
     "metadata": {},
     "output_type": "execute_result"
    },
    {
     "data": {
      "text/plain": "         ⎛ 2       2  ⎞\n 2  2  2 ⎜a       a   ⎟\nπ ⋅h̅ ⋅n ⋅⎜── - ───────⎟\n         ⎜12      2  2⎟\n         ⎝     2⋅π ⋅n ⎠\n───────────────────────\n            2          \n           a           ",
      "image/png": "[encoded data removed]",
      "text/latex": "$\\displaystyle \\frac{\\pi^{2} \\hbar^{2} n^{2} \\left(\\frac{a^{2}}{12} - \\frac{a^{2}}{2 \\pi^{2} n^{2}}\\right)}{a^{2}}$"
     },
     "execution_count": 21,
     "metadata": {},
     "output_type": "execute_result"
    }
   ],
   "source": [
    "ex = sp.integrate(sol.rhs*x*sol.rhs,(x,0,a)).simplify()\n",
    "ex2 = sp.integrate(sol.rhs*x**2*sol.rhs,(x,0,a)).simplify()\n",
    "a = (ex2-ex**2)*(ep2-ep**2)\n",
    "a"
   ],
   "metadata": {
    "collapsed": false,
    "pycharm": {
     "name": "#%%\n"
    }
   }
  },
  {
   "cell_type": "code",
   "execution_count": 22,
   "outputs": [
    {
     "data": {
      "text/plain": "     2 ⎛ 2  2    ⎞\nh̅   h̅ ⋅⎝π ⋅n  - 6⎠\n─ ≤ ──────────────\n2         12      ",
      "image/png": "[encoded data removed]",
      "text/latex": "$\\displaystyle \\frac{\\hbar}{2} \\leq \\frac{\\hbar^{2} \\left(\\pi^{2} n^{2} - 6\\right)}{12}$"
     },
     "execution_count": 11,
     "metadata": {},
     "output_type": "execute_result"
    },
    {
     "data": {
      "text/plain": "     2 ⎛ 2  2    ⎞\nh̅   h̅ ⋅⎝π ⋅n  - 6⎠\n─ ≤ ──────────────\n2         12      ",
      "image/png": "[encoded data removed]",
      "text/latex": "$\\displaystyle \\frac{\\hbar}{2} \\leq \\frac{\\hbar^{2} \\left(\\pi^{2} n^{2} - 6\\right)}{12}$"
     },
     "execution_count": 22,
     "metadata": {},
     "output_type": "execute_result"
    }
   ],
   "source": [
    "(a>= h/2).simplify()"
   ],
   "metadata": {
    "collapsed": false,
    "pycharm": {
     "name": "#%%\n"
    }
   }
  },
  {
   "cell_type": "markdown",
   "source": [
    "Zakładając, że n>=1 otrzymujemy nierówność, która jest zawsze spełniona, dzięki czemu spełnia się również zasada nieoznaczoności"
   ],
   "metadata": {
    "collapsed": false,
    "pycharm": {
     "name": "#%% md\n"
    }
   }
  }
 ],
 "metadata": {
  "kernelspec": {
   "display_name": "Python 3",
   "language": "python",
   "name": "python3"
  },
  "language_info": {
   "codemirror_mode": {
    "name": "ipython",
    "version": 2
   },
   "file_extension": ".py",
   "mimetype": "text/x-python",
   "name": "python",
   "nbconvert_exporter": "python",
   "pygments_lexer": "ipython2",
   "version": "2.7.6"
  }
 },
 "nbformat": 4,
 "nbformat_minor": 0
}